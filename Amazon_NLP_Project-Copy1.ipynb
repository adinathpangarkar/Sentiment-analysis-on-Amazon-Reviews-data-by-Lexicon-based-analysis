{
 "cells": [
  {
   "cell_type": "markdown",
   "id": "2c3b6be8-e4cc-4b0b-a653-754014c10218",
   "metadata": {},
   "source": [
    "# Project Topic : Sentiment Analysis of Amazon Reviews Data by Lexicon based analysis method"
   ]
  },
  {
   "cell_type": "markdown",
   "id": "1e09c758",
   "metadata": {},
   "source": [
    "## Install Necessary Libraries"
   ]
  },
  {
   "cell_type": "code",
   "execution_count": 3,
   "id": "6c363a6d",
   "metadata": {},
   "outputs": [],
   "source": [
    "import numpy as np\n",
    "import pandas as pd\n",
    "import matplotlib.pyplot as plt\n",
    "import seaborn as sns\n",
    "from pandas import DataFrame"
   ]
  },
  {
   "cell_type": "code",
   "execution_count": 4,
   "id": "f33a6b40-d9dc-42b3-83b0-67bcd9bd9185",
   "metadata": {},
   "outputs": [],
   "source": [
    "import nltk\n",
    "from nltk.sentiment.vader import SentimentIntensityAnalyzer\n",
    "from nltk.corpus import stopwords\n",
    "from nltk.tokenize import word_tokenize\n",
    "from nltk.stem import WordNetLemmatizer"
   ]
  },
  {
   "cell_type": "code",
   "execution_count": 5,
   "id": "83553259",
   "metadata": {},
   "outputs": [
    {
     "name": "stderr",
     "output_type": "stream",
     "text": [
      "[nltk_data] Downloading package stopwords to\n",
      "[nltk_data]     C:\\Users\\DELL\\AppData\\Roaming\\nltk_data...\n",
      "[nltk_data]   Package stopwords is already up-to-date!\n"
     ]
    },
    {
     "data": {
      "text/plain": [
       "True"
      ]
     },
     "execution_count": 5,
     "metadata": {},
     "output_type": "execute_result"
    }
   ],
   "source": [
    "import nltk\n",
    "nltk.download('stopwords')"
   ]
  },
  {
   "cell_type": "code",
   "execution_count": 6,
   "id": "38fde954-1fa9-454b-a20f-c0bdfdf346a6",
   "metadata": {},
   "outputs": [
    {
     "name": "stderr",
     "output_type": "stream",
     "text": [
      "[nltk_data] Downloading package wordnet to\n",
      "[nltk_data]     C:\\Users\\DELL\\AppData\\Roaming\\nltk_data...\n",
      "[nltk_data]   Package wordnet is already up-to-date!\n",
      "[nltk_data] Downloading package omw-1.4 to\n",
      "[nltk_data]     C:\\Users\\DELL\\AppData\\Roaming\\nltk_data...\n",
      "[nltk_data]   Package omw-1.4 is already up-to-date!\n"
     ]
    },
    {
     "data": {
      "text/plain": [
       "True"
      ]
     },
     "execution_count": 6,
     "metadata": {},
     "output_type": "execute_result"
    }
   ],
   "source": [
    "import nltk\n",
    "nltk.download('wordnet')\n",
    "nltk.download('omw-1.4')  # Optional, provides additional wordnet data."
   ]
  },
  {
   "cell_type": "code",
   "execution_count": 7,
   "id": "390907b6-0a86-4043-ac32-9a443b20818a",
   "metadata": {},
   "outputs": [
    {
     "name": "stderr",
     "output_type": "stream",
     "text": [
      "[nltk_data] Downloading package vader_lexicon to\n",
      "[nltk_data]     C:\\Users\\DELL\\AppData\\Roaming\\nltk_data...\n",
      "[nltk_data]   Package vader_lexicon is already up-to-date!\n"
     ]
    },
    {
     "data": {
      "text/plain": [
       "True"
      ]
     },
     "execution_count": 7,
     "metadata": {},
     "output_type": "execute_result"
    }
   ],
   "source": [
    "import nltk\n",
    "nltk.download('vader_lexicon')"
   ]
  },
  {
   "cell_type": "code",
   "execution_count": 8,
   "id": "974ccfce",
   "metadata": {},
   "outputs": [],
   "source": [
    "# Load the amazon review dataset\n",
    "df = pd.read_csv(\"amazon.csv\")"
   ]
  },
  {
   "cell_type": "code",
   "execution_count": 9,
   "id": "3b19f1e9",
   "metadata": {},
   "outputs": [
    {
     "data": {
      "text/html": [
       "<div>\n",
       "<style scoped>\n",
       "    .dataframe tbody tr th:only-of-type {\n",
       "        vertical-align: middle;\n",
       "    }\n",
       "\n",
       "    .dataframe tbody tr th {\n",
       "        vertical-align: top;\n",
       "    }\n",
       "\n",
       "    .dataframe thead th {\n",
       "        text-align: right;\n",
       "    }\n",
       "</style>\n",
       "<table border=\"1\" class=\"dataframe\">\n",
       "  <thead>\n",
       "    <tr style=\"text-align: right;\">\n",
       "      <th></th>\n",
       "      <th>Unnamed: 0</th>\n",
       "      <th>reviewerName</th>\n",
       "      <th>overall</th>\n",
       "      <th>reviewText</th>\n",
       "      <th>reviewTime</th>\n",
       "      <th>day_diff</th>\n",
       "      <th>helpful_yes</th>\n",
       "      <th>helpful_no</th>\n",
       "      <th>total_vote</th>\n",
       "      <th>score_pos_neg_diff</th>\n",
       "      <th>score_average_rating</th>\n",
       "      <th>wilson_lower_bound</th>\n",
       "    </tr>\n",
       "  </thead>\n",
       "  <tbody>\n",
       "    <tr>\n",
       "      <th>0</th>\n",
       "      <td>0</td>\n",
       "      <td>NaN</td>\n",
       "      <td>4</td>\n",
       "      <td>No issues.</td>\n",
       "      <td>23-07-2014</td>\n",
       "      <td>138</td>\n",
       "      <td>0</td>\n",
       "      <td>0</td>\n",
       "      <td>0</td>\n",
       "      <td>0</td>\n",
       "      <td>0.0</td>\n",
       "      <td>0.0</td>\n",
       "    </tr>\n",
       "    <tr>\n",
       "      <th>1</th>\n",
       "      <td>1</td>\n",
       "      <td>0mie</td>\n",
       "      <td>5</td>\n",
       "      <td>Purchased this for my device, it worked as adv...</td>\n",
       "      <td>25-10-2013</td>\n",
       "      <td>409</td>\n",
       "      <td>0</td>\n",
       "      <td>0</td>\n",
       "      <td>0</td>\n",
       "      <td>0</td>\n",
       "      <td>0.0</td>\n",
       "      <td>0.0</td>\n",
       "    </tr>\n",
       "    <tr>\n",
       "      <th>2</th>\n",
       "      <td>2</td>\n",
       "      <td>1K3</td>\n",
       "      <td>4</td>\n",
       "      <td>it works as expected. I should have sprung for...</td>\n",
       "      <td>23-12-2012</td>\n",
       "      <td>715</td>\n",
       "      <td>0</td>\n",
       "      <td>0</td>\n",
       "      <td>0</td>\n",
       "      <td>0</td>\n",
       "      <td>0.0</td>\n",
       "      <td>0.0</td>\n",
       "    </tr>\n",
       "    <tr>\n",
       "      <th>3</th>\n",
       "      <td>3</td>\n",
       "      <td>1m2</td>\n",
       "      <td>5</td>\n",
       "      <td>This think has worked out great.Had a diff. br...</td>\n",
       "      <td>21-11-2013</td>\n",
       "      <td>382</td>\n",
       "      <td>0</td>\n",
       "      <td>0</td>\n",
       "      <td>0</td>\n",
       "      <td>0</td>\n",
       "      <td>0.0</td>\n",
       "      <td>0.0</td>\n",
       "    </tr>\n",
       "    <tr>\n",
       "      <th>4</th>\n",
       "      <td>4</td>\n",
       "      <td>2&amp;amp;1/2Men</td>\n",
       "      <td>5</td>\n",
       "      <td>Bought it with Retail Packaging, arrived legit...</td>\n",
       "      <td>13-07-2013</td>\n",
       "      <td>513</td>\n",
       "      <td>0</td>\n",
       "      <td>0</td>\n",
       "      <td>0</td>\n",
       "      <td>0</td>\n",
       "      <td>0.0</td>\n",
       "      <td>0.0</td>\n",
       "    </tr>\n",
       "  </tbody>\n",
       "</table>\n",
       "</div>"
      ],
      "text/plain": [
       "   Unnamed: 0  reviewerName  overall  \\\n",
       "0           0           NaN        4   \n",
       "1           1          0mie        5   \n",
       "2           2           1K3        4   \n",
       "3           3           1m2        5   \n",
       "4           4  2&amp;1/2Men        5   \n",
       "\n",
       "                                          reviewText  reviewTime  day_diff  \\\n",
       "0                                         No issues.  23-07-2014       138   \n",
       "1  Purchased this for my device, it worked as adv...  25-10-2013       409   \n",
       "2  it works as expected. I should have sprung for...  23-12-2012       715   \n",
       "3  This think has worked out great.Had a diff. br...  21-11-2013       382   \n",
       "4  Bought it with Retail Packaging, arrived legit...  13-07-2013       513   \n",
       "\n",
       "   helpful_yes  helpful_no  total_vote  score_pos_neg_diff  \\\n",
       "0            0           0           0                   0   \n",
       "1            0           0           0                   0   \n",
       "2            0           0           0                   0   \n",
       "3            0           0           0                   0   \n",
       "4            0           0           0                   0   \n",
       "\n",
       "   score_average_rating  wilson_lower_bound  \n",
       "0                   0.0                 0.0  \n",
       "1                   0.0                 0.0  \n",
       "2                   0.0                 0.0  \n",
       "3                   0.0                 0.0  \n",
       "4                   0.0                 0.0  "
      ]
     },
     "execution_count": 9,
     "metadata": {},
     "output_type": "execute_result"
    }
   ],
   "source": [
    "df.head(5)"
   ]
  },
  {
   "cell_type": "code",
   "execution_count": 10,
   "id": "37ca73c1",
   "metadata": {},
   "outputs": [
    {
     "data": {
      "text/plain": [
       "4915"
      ]
     },
     "execution_count": 10,
     "metadata": {},
     "output_type": "execute_result"
    }
   ],
   "source": [
    "len(df)"
   ]
  },
  {
   "cell_type": "code",
   "execution_count": 11,
   "id": "58d68cf5",
   "metadata": {},
   "outputs": [
    {
     "data": {
      "text/plain": [
       "(4915, 12)"
      ]
     },
     "execution_count": 11,
     "metadata": {},
     "output_type": "execute_result"
    }
   ],
   "source": [
    "df.shape"
   ]
  },
  {
   "cell_type": "code",
   "execution_count": 12,
   "id": "1dacbe48",
   "metadata": {},
   "outputs": [
    {
     "name": "stdout",
     "output_type": "stream",
     "text": [
      "<class 'pandas.core.frame.DataFrame'>\n",
      "RangeIndex: 4915 entries, 0 to 4914\n",
      "Data columns (total 12 columns):\n",
      " #   Column                Non-Null Count  Dtype  \n",
      "---  ------                --------------  -----  \n",
      " 0   Unnamed: 0            4915 non-null   int64  \n",
      " 1   reviewerName          4914 non-null   object \n",
      " 2   overall               4915 non-null   int64  \n",
      " 3   reviewText            4914 non-null   object \n",
      " 4   reviewTime            4915 non-null   object \n",
      " 5   day_diff              4915 non-null   int64  \n",
      " 6   helpful_yes           4915 non-null   int64  \n",
      " 7   helpful_no            4915 non-null   int64  \n",
      " 8   total_vote            4915 non-null   int64  \n",
      " 9   score_pos_neg_diff    4915 non-null   int64  \n",
      " 10  score_average_rating  4915 non-null   float64\n",
      " 11  wilson_lower_bound    4915 non-null   float64\n",
      "dtypes: float64(2), int64(7), object(3)\n",
      "memory usage: 460.9+ KB\n"
     ]
    }
   ],
   "source": [
    "df.info()"
   ]
  },
  {
   "cell_type": "code",
   "execution_count": 13,
   "id": "47968e27",
   "metadata": {},
   "outputs": [
    {
     "data": {
      "text/plain": [
       "Unnamed: 0                int64\n",
       "reviewerName             object\n",
       "overall                   int64\n",
       "reviewText               object\n",
       "reviewTime               object\n",
       "day_diff                  int64\n",
       "helpful_yes               int64\n",
       "helpful_no                int64\n",
       "total_vote                int64\n",
       "score_pos_neg_diff        int64\n",
       "score_average_rating    float64\n",
       "wilson_lower_bound      float64\n",
       "dtype: object"
      ]
     },
     "execution_count": 13,
     "metadata": {},
     "output_type": "execute_result"
    }
   ],
   "source": [
    "df.dtypes"
   ]
  },
  {
   "cell_type": "code",
   "execution_count": 14,
   "id": "985c22c8",
   "metadata": {},
   "outputs": [
    {
     "data": {
      "text/plain": [
       "Index(['Unnamed: 0', 'reviewerName', 'overall', 'reviewText', 'reviewTime',\n",
       "       'day_diff', 'helpful_yes', 'helpful_no', 'total_vote',\n",
       "       'score_pos_neg_diff', 'score_average_rating', 'wilson_lower_bound'],\n",
       "      dtype='object')"
      ]
     },
     "execution_count": 14,
     "metadata": {},
     "output_type": "execute_result"
    }
   ],
   "source": [
    "df.columns"
   ]
  },
  {
   "cell_type": "markdown",
   "id": "f28f4beb",
   "metadata": {},
   "source": [
    "#  Data Cleaning"
   ]
  },
  {
   "cell_type": "code",
   "execution_count": 16,
   "id": "b347848e",
   "metadata": {},
   "outputs": [
    {
     "data": {
      "text/plain": [
       "Unnamed: 0              0\n",
       "reviewerName            1\n",
       "overall                 0\n",
       "reviewText              1\n",
       "reviewTime              0\n",
       "day_diff                0\n",
       "helpful_yes             0\n",
       "helpful_no              0\n",
       "total_vote              0\n",
       "score_pos_neg_diff      0\n",
       "score_average_rating    0\n",
       "wilson_lower_bound      0\n",
       "dtype: int64"
      ]
     },
     "execution_count": 16,
     "metadata": {},
     "output_type": "execute_result"
    }
   ],
   "source": [
    "df.isnull().sum()"
   ]
  },
  {
   "cell_type": "code",
   "execution_count": 17,
   "id": "32d5e244",
   "metadata": {},
   "outputs": [
    {
     "name": "stdout",
     "output_type": "stream",
     "text": [
      "Missing value locations:\n",
      "      Unnamed: 0  reviewerName  overall  reviewText  reviewTime  day_diff  \\\n",
      "0          False          True    False       False       False     False   \n",
      "1          False         False    False       False       False     False   \n",
      "2          False         False    False       False       False     False   \n",
      "3          False         False    False       False       False     False   \n",
      "4          False         False    False       False       False     False   \n",
      "...          ...           ...      ...         ...         ...       ...   \n",
      "4910       False         False    False       False       False     False   \n",
      "4911       False         False    False       False       False     False   \n",
      "4912       False         False    False       False       False     False   \n",
      "4913       False         False    False       False       False     False   \n",
      "4914       False         False    False       False       False     False   \n",
      "\n",
      "      helpful_yes  helpful_no  total_vote  score_pos_neg_diff  \\\n",
      "0           False       False       False               False   \n",
      "1           False       False       False               False   \n",
      "2           False       False       False               False   \n",
      "3           False       False       False               False   \n",
      "4           False       False       False               False   \n",
      "...           ...         ...         ...                 ...   \n",
      "4910        False       False       False               False   \n",
      "4911        False       False       False               False   \n",
      "4912        False       False       False               False   \n",
      "4913        False       False       False               False   \n",
      "4914        False       False       False               False   \n",
      "\n",
      "      score_average_rating  wilson_lower_bound  \n",
      "0                    False               False  \n",
      "1                    False               False  \n",
      "2                    False               False  \n",
      "3                    False               False  \n",
      "4                    False               False  \n",
      "...                    ...                 ...  \n",
      "4910                 False               False  \n",
      "4911                 False               False  \n",
      "4912                 False               False  \n",
      "4913                 False               False  \n",
      "4914                 False               False  \n",
      "\n",
      "[4915 rows x 12 columns]\n"
     ]
    }
   ],
   "source": [
    "# Find the locations of missing values\n",
    "missing_values = df.isnull()\n",
    "\n",
    "print(\"Missing value locations:\")\n",
    "print(missing_values)\n"
   ]
  },
  {
   "cell_type": "code",
   "execution_count": 18,
   "id": "702afd98",
   "metadata": {},
   "outputs": [
    {
     "name": "stdout",
     "output_type": "stream",
     "text": [
      "Row and Column indices of missing values:\n",
      "Row: 0, Column: reviewerName\n",
      "Row: 125, Column: reviewText\n"
     ]
    }
   ],
   "source": [
    "missing_locations = [(row, col) for row, cols in missing_values.iterrows() for col in cols[cols].index]\n",
    "\n",
    "print(\"Row and Column indices of missing values:\")\n",
    "for loc in missing_locations:\n",
    "    print(f\"Row: {loc[0]}, Column: {loc[1]}\")"
   ]
  },
  {
   "cell_type": "code",
   "execution_count": 19,
   "id": "094cd643",
   "metadata": {},
   "outputs": [
    {
     "data": {
      "text/plain": [
       "Unnamed: 0                       0\n",
       "reviewerName                   NaN\n",
       "overall                          4\n",
       "reviewText              No issues.\n",
       "reviewTime              23-07-2014\n",
       "day_diff                       138\n",
       "helpful_yes                      0\n",
       "helpful_no                       0\n",
       "total_vote                       0\n",
       "score_pos_neg_diff               0\n",
       "score_average_rating           0.0\n",
       "wilson_lower_bound             0.0\n",
       "Name: 0, dtype: object"
      ]
     },
     "execution_count": 19,
     "metadata": {},
     "output_type": "execute_result"
    }
   ],
   "source": [
    "df.iloc[0,]"
   ]
  },
  {
   "cell_type": "code",
   "execution_count": 20,
   "id": "c393596d",
   "metadata": {},
   "outputs": [
    {
     "data": {
      "text/plain": [
       "Unnamed: 0                            125\n",
       "reviewerName            Alexander Stevens\n",
       "overall                                 5\n",
       "reviewText                            NaN\n",
       "reviewTime                     21-08-2012\n",
       "day_diff                              839\n",
       "helpful_yes                             2\n",
       "helpful_no                              1\n",
       "total_vote                              3\n",
       "score_pos_neg_diff                      1\n",
       "score_average_rating             0.666667\n",
       "wilson_lower_bound                0.20766\n",
       "Name: 125, dtype: object"
      ]
     },
     "execution_count": 20,
     "metadata": {},
     "output_type": "execute_result"
    }
   ],
   "source": [
    "df.iloc[125,]"
   ]
  },
  {
   "cell_type": "code",
   "execution_count": 21,
   "id": "5f82e1dc",
   "metadata": {},
   "outputs": [
    {
     "data": {
      "text/plain": [
       "Index(['Unnamed: 0', 'reviewerName', 'overall', 'reviewText', 'reviewTime',\n",
       "       'day_diff', 'helpful_yes', 'helpful_no', 'total_vote',\n",
       "       'score_pos_neg_diff', 'score_average_rating', 'wilson_lower_bound'],\n",
       "      dtype='object')"
      ]
     },
     "execution_count": 21,
     "metadata": {},
     "output_type": "execute_result"
    }
   ],
   "source": [
    "df.columns"
   ]
  },
  {
   "cell_type": "code",
   "execution_count": 22,
   "id": "5f90ee82",
   "metadata": {},
   "outputs": [],
   "source": [
    "from pandas import DataFrame"
   ]
  },
  {
   "cell_type": "code",
   "execution_count": 23,
   "id": "af5744fc",
   "metadata": {},
   "outputs": [
    {
     "data": {
      "text/html": [
       "<div>\n",
       "<style scoped>\n",
       "    .dataframe tbody tr th:only-of-type {\n",
       "        vertical-align: middle;\n",
       "    }\n",
       "\n",
       "    .dataframe tbody tr th {\n",
       "        vertical-align: top;\n",
       "    }\n",
       "\n",
       "    .dataframe thead th {\n",
       "        text-align: right;\n",
       "    }\n",
       "</style>\n",
       "<table border=\"1\" class=\"dataframe\">\n",
       "  <thead>\n",
       "    <tr style=\"text-align: right;\">\n",
       "      <th></th>\n",
       "      <th>reviewerName</th>\n",
       "      <th>reviewText</th>\n",
       "    </tr>\n",
       "  </thead>\n",
       "  <tbody>\n",
       "    <tr>\n",
       "      <th>0</th>\n",
       "      <td>NaN</td>\n",
       "      <td>No issues.</td>\n",
       "    </tr>\n",
       "    <tr>\n",
       "      <th>1</th>\n",
       "      <td>0mie</td>\n",
       "      <td>Purchased this for my device, it worked as adv...</td>\n",
       "    </tr>\n",
       "    <tr>\n",
       "      <th>2</th>\n",
       "      <td>1K3</td>\n",
       "      <td>it works as expected. I should have sprung for...</td>\n",
       "    </tr>\n",
       "    <tr>\n",
       "      <th>3</th>\n",
       "      <td>1m2</td>\n",
       "      <td>This think has worked out great.Had a diff. br...</td>\n",
       "    </tr>\n",
       "    <tr>\n",
       "      <th>4</th>\n",
       "      <td>2&amp;amp;1/2Men</td>\n",
       "      <td>Bought it with Retail Packaging, arrived legit...</td>\n",
       "    </tr>\n",
       "  </tbody>\n",
       "</table>\n",
       "</div>"
      ],
      "text/plain": [
       "   reviewerName                                         reviewText\n",
       "0           NaN                                         No issues.\n",
       "1          0mie  Purchased this for my device, it worked as adv...\n",
       "2           1K3  it works as expected. I should have sprung for...\n",
       "3           1m2  This think has worked out great.Had a diff. br...\n",
       "4  2&amp;1/2Men  Bought it with Retail Packaging, arrived legit..."
      ]
     },
     "execution_count": 23,
     "metadata": {},
     "output_type": "execute_result"
    }
   ],
   "source": [
    "subset = DataFrame(df,columns = ['reviewerName','reviewText']) # drop remaining columns which is not necessary\n",
    "subset.head()"
   ]
  },
  {
   "cell_type": "code",
   "execution_count": 24,
   "id": "48a84ed4",
   "metadata": {},
   "outputs": [
    {
     "data": {
      "text/plain": [
       "(4915, 2)"
      ]
     },
     "execution_count": 24,
     "metadata": {},
     "output_type": "execute_result"
    }
   ],
   "source": [
    "subset.shape"
   ]
  },
  {
   "cell_type": "code",
   "execution_count": 25,
   "id": "4ec5ffe2",
   "metadata": {},
   "outputs": [],
   "source": [
    "subset.drop([0,125],inplace =True)"
   ]
  },
  {
   "cell_type": "code",
   "execution_count": 26,
   "id": "c3c7a4a8",
   "metadata": {},
   "outputs": [
    {
     "data": {
      "text/plain": [
       "(4913, 2)"
      ]
     },
     "execution_count": 26,
     "metadata": {},
     "output_type": "execute_result"
    }
   ],
   "source": [
    "subset.shape"
   ]
  },
  {
   "cell_type": "code",
   "execution_count": 27,
   "id": "475979a0-7c05-4f64-85ca-63b48195f865",
   "metadata": {},
   "outputs": [
    {
     "data": {
      "text/plain": [
       "Index(['reviewerName', 'reviewText'], dtype='object')"
      ]
     },
     "execution_count": 27,
     "metadata": {},
     "output_type": "execute_result"
    }
   ],
   "source": [
    "subset.columns"
   ]
  },
  {
   "cell_type": "markdown",
   "id": "b82ebb6a",
   "metadata": {},
   "source": [
    "# Data Preprocessing using Natural Langauge Preprocessing(NLP)"
   ]
  },
  {
   "cell_type": "markdown",
   "id": "f1ce9415",
   "metadata": {},
   "source": [
    "## Lowercasing,Remove Punctuations,Remove Stopwords,Tokenization,Stemming,Lemmatization"
   ]
  },
  {
   "cell_type": "code",
   "execution_count": 30,
   "id": "8ddd504f-8a2f-43f2-a459-25e839dc1eca",
   "metadata": {},
   "outputs": [
    {
     "data": {
      "text/html": [
       "<div>\n",
       "<style scoped>\n",
       "    .dataframe tbody tr th:only-of-type {\n",
       "        vertical-align: middle;\n",
       "    }\n",
       "\n",
       "    .dataframe tbody tr th {\n",
       "        vertical-align: top;\n",
       "    }\n",
       "\n",
       "    .dataframe thead th {\n",
       "        text-align: right;\n",
       "    }\n",
       "</style>\n",
       "<table border=\"1\" class=\"dataframe\">\n",
       "  <thead>\n",
       "    <tr style=\"text-align: right;\">\n",
       "      <th></th>\n",
       "      <th>reviewerName</th>\n",
       "      <th>reviewText</th>\n",
       "      <th>CorrectedText</th>\n",
       "    </tr>\n",
       "  </thead>\n",
       "  <tbody>\n",
       "    <tr>\n",
       "      <th>1</th>\n",
       "      <td>0mie</td>\n",
       "      <td>Purchased this for my device, it worked as adv...</td>\n",
       "      <td>purchased device , worked advertised . never m...</td>\n",
       "    </tr>\n",
       "    <tr>\n",
       "      <th>2</th>\n",
       "      <td>1K3</td>\n",
       "      <td>it works as expected. I should have sprung for...</td>\n",
       "      <td>work expected . sprung higher capacity . think...</td>\n",
       "    </tr>\n",
       "    <tr>\n",
       "      <th>3</th>\n",
       "      <td>1m2</td>\n",
       "      <td>This think has worked out great.Had a diff. br...</td>\n",
       "      <td>think worked great.had diff . bran 64gb card w...</td>\n",
       "    </tr>\n",
       "    <tr>\n",
       "      <th>4</th>\n",
       "      <td>2&amp;amp;1/2Men</td>\n",
       "      <td>Bought it with Retail Packaging, arrived legit...</td>\n",
       "      <td>bought retail packaging , arrived legit , oran...</td>\n",
       "    </tr>\n",
       "    <tr>\n",
       "      <th>5</th>\n",
       "      <td>2Cents!</td>\n",
       "      <td>It's mini storage.  It doesn't do anything els...</td>\n",
       "      <td>'s mini storage . n't anything else 's suppose...</td>\n",
       "    </tr>\n",
       "    <tr>\n",
       "      <th>...</th>\n",
       "      <td>...</td>\n",
       "      <td>...</td>\n",
       "      <td>...</td>\n",
       "    </tr>\n",
       "    <tr>\n",
       "      <th>4910</th>\n",
       "      <td>ZM \"J\"</td>\n",
       "      <td>I bought this Sandisk 16GB Class 10 to use wit...</td>\n",
       "      <td>bought sandisk 16gb class 10 use htc inspire ,...</td>\n",
       "    </tr>\n",
       "    <tr>\n",
       "      <th>4911</th>\n",
       "      <td>Zo</td>\n",
       "      <td>Used this for extending the capabilities of my...</td>\n",
       "      <td>used extending capability samsung galaxy note ...</td>\n",
       "    </tr>\n",
       "    <tr>\n",
       "      <th>4912</th>\n",
       "      <td>Z S Liske</td>\n",
       "      <td>Great card that is very fast and reliable. It ...</td>\n",
       "      <td>great card fast reliable . come optional adapt...</td>\n",
       "    </tr>\n",
       "    <tr>\n",
       "      <th>4913</th>\n",
       "      <td>Z Taylor</td>\n",
       "      <td>Good amount of space for the stuff I want to d...</td>\n",
       "      <td>good amount space stuff want , fit gopro . say ?</td>\n",
       "    </tr>\n",
       "    <tr>\n",
       "      <th>4914</th>\n",
       "      <td>Zza</td>\n",
       "      <td>I've heard bad things about this 64gb Micro SD...</td>\n",
       "      <td>'ve heard bad thing 64gb micro sd card crappin...</td>\n",
       "    </tr>\n",
       "  </tbody>\n",
       "</table>\n",
       "<p>4913 rows × 3 columns</p>\n",
       "</div>"
      ],
      "text/plain": [
       "      reviewerName                                         reviewText  \\\n",
       "1             0mie  Purchased this for my device, it worked as adv...   \n",
       "2              1K3  it works as expected. I should have sprung for...   \n",
       "3              1m2  This think has worked out great.Had a diff. br...   \n",
       "4     2&amp;1/2Men  Bought it with Retail Packaging, arrived legit...   \n",
       "5          2Cents!  It's mini storage.  It doesn't do anything els...   \n",
       "...            ...                                                ...   \n",
       "4910        ZM \"J\"  I bought this Sandisk 16GB Class 10 to use wit...   \n",
       "4911            Zo  Used this for extending the capabilities of my...   \n",
       "4912     Z S Liske  Great card that is very fast and reliable. It ...   \n",
       "4913      Z Taylor  Good amount of space for the stuff I want to d...   \n",
       "4914           Zza  I've heard bad things about this 64gb Micro SD...   \n",
       "\n",
       "                                          CorrectedText  \n",
       "1     purchased device , worked advertised . never m...  \n",
       "2     work expected . sprung higher capacity . think...  \n",
       "3     think worked great.had diff . bran 64gb card w...  \n",
       "4     bought retail packaging , arrived legit , oran...  \n",
       "5     's mini storage . n't anything else 's suppose...  \n",
       "...                                                 ...  \n",
       "4910  bought sandisk 16gb class 10 use htc inspire ,...  \n",
       "4911  used extending capability samsung galaxy note ...  \n",
       "4912  great card fast reliable . come optional adapt...  \n",
       "4913   good amount space stuff want , fit gopro . say ?  \n",
       "4914  've heard bad thing 64gb micro sd card crappin...  \n",
       "\n",
       "[4913 rows x 3 columns]"
      ]
     },
     "execution_count": 30,
     "metadata": {},
     "output_type": "execute_result"
    }
   ],
   "source": [
    "# create preprocess_text function\n",
    "def preprocess_text(text):\n",
    "\n",
    "    # Tokenize the text\n",
    "\n",
    "    tokens = word_tokenize(text.lower())\n",
    "\n",
    "\n",
    "\n",
    "\n",
    "    # Remove stop words\n",
    "\n",
    "    filtered_tokens = [token for token in tokens if token not in stopwords.words('english')]\n",
    "\n",
    "\n",
    "\n",
    "\n",
    "    # Lemmatize the tokens\n",
    "\n",
    "    lemmatizer = WordNetLemmatizer()\n",
    "\n",
    "    lemmatized_tokens = [lemmatizer.lemmatize(token) for token in filtered_tokens]\n",
    "\n",
    "\n",
    "\n",
    "\n",
    "    # Join the tokens back into a string\n",
    "\n",
    "    processed_text = ' '.join(lemmatized_tokens)\n",
    "\n",
    "    return processed_text\n",
    "\n",
    "# apply the function subset\n",
    "\n",
    "subset['CorrectedText'] = subset['reviewText'].apply(preprocess_text)\n",
    "subset"
   ]
  },
  {
   "cell_type": "code",
   "execution_count": 31,
   "id": "d57b77df-eeab-4556-a96b-2439833bcbfb",
   "metadata": {},
   "outputs": [
    {
     "name": "stdout",
     "output_type": "stream",
     "text": [
      "   reviewerName                                         reviewText  \\\n",
      "1          0mie  Purchased this for my device, it worked as adv...   \n",
      "2           1K3  it works as expected. I should have sprung for...   \n",
      "3           1m2  This think has worked out great.Had a diff. br...   \n",
      "4  2&amp;1/2Men  Bought it with Retail Packaging, arrived legit...   \n",
      "5       2Cents!  It's mini storage.  It doesn't do anything els...   \n",
      "\n",
      "                                       CorrectedText Sentiment   Score  \n",
      "1  purchased device , worked advertised . never m...   Neutral  0.0000  \n",
      "2  work expected . sprung higher capacity . think...  Positive  0.4019  \n",
      "3  think worked great.had diff . bran 64gb card w...  Positive  0.8684  \n",
      "4  bought retail packaging , arrived legit , oran...  Positive  0.8591  \n",
      "5  's mini storage . n't anything else 's suppose...   Neutral  0.0000  \n"
     ]
    }
   ],
   "source": [
    "from nltk.sentiment import SentimentIntensityAnalyzer\n",
    "\n",
    "# Initialize NLTK Sentiment Analyzer\n",
    "analyzer = SentimentIntensityAnalyzer()\n",
    "\n",
    "# Create get_sentiment function to classify sentiment\n",
    "def analyze_sentiment(text):\n",
    "    scores = analyzer.polarity_scores(text)\n",
    "    compound_score = scores['compound']\n",
    "\n",
    "    # Classify sentiment based on compound score\n",
    "    if compound_score >= 0.05:\n",
    "        sentiment = 'Positive'\n",
    "    elif compound_score <= -0.05:\n",
    "        sentiment = 'Negative'\n",
    "    else:\n",
    "        sentiment = 'Neutral'\n",
    "\n",
    "    return sentiment,compound_score\n",
    "\n",
    "\n",
    "\n",
    "# Apply the sentiment analysis function to each row of the 'text' column\n",
    "subset[['Sentiment','Score']] = subset['CorrectedText'].apply(lambda x: pd.Series(analyze_sentiment(x)))\n",
    "\n",
    "# Save the updated DataFrame to a new CSV file\n",
    "subset.to_csv('sentiment_analysis_output.csv', index=False)\n",
    "\n",
    "# Display the updated DataFrame (first few rows)\n",
    "print(subset.head())\n"
   ]
  },
  {
   "cell_type": "code",
   "execution_count": 32,
   "id": "4c2dd65c-2a58-44a2-8793-d77ccd9444b5",
   "metadata": {
    "scrolled": true
   },
   "outputs": [
    {
     "data": {
      "image/png": "[encoded data removed]",
      "text/plain": [
       "<Figure size 600x400 with 1 Axes>"
      ]
     },
     "metadata": {},
     "output_type": "display_data"
    }
   ],
   "source": [
    "### 1. Bar Plot for Sentiment Distribution\n",
    "\n",
    "plt.figure(figsize=(6, 4))\n",
    "sns.countplot(x='Sentiment', data=subset, hue='Sentiment', palette='Set2')\n",
    "plt.title('Sentiment Distribution')\n",
    "plt.xlabel('Sentiment')\n",
    "plt.ylabel('Count')\n",
    "plt.show()"
   ]
  },
  {
   "cell_type": "markdown",
   "id": "5c9fd425-19b2-41fc-bbdc-7f19efcaa288",
   "metadata": {},
   "source": [
    "## Conclusion : If you are analyzing customer reviews for a  Amazon product and see that most reviews are positive, you can conclude that the product is well-received and satisfies most customers."
   ]
  },
  {
   "cell_type": "code",
   "execution_count": 34,
   "id": "ba130030-a8c7-4ee6-8d48-2fbecf74c82c",
   "metadata": {},
   "outputs": [
    {
     "data": {
      "image/png": "[encoded data removed]",
      "text/plain": [
       "<Figure size 600x400 with 1 Axes>"
      ]
     },
     "metadata": {},
     "output_type": "display_data"
    }
   ],
   "source": [
    "### 2. Histogram of Compound Scores\n",
    "\n",
    "plt.figure(figsize=(6, 4))\n",
    "sns.histplot(subset['Score'], bins=10, kde=True, color='purple')\n",
    "plt.title('Histogram of Compound Scores')\n",
    "plt.xlabel('Compound Score')\n",
    "plt.ylabel('Frequency')\n",
    "plt.show()"
   ]
  },
  {
   "cell_type": "code",
   "execution_count": 35,
   "id": "20d8def4-57ae-4573-a00c-b2434957d884",
   "metadata": {},
   "outputs": [
    {
     "data": {
      "image/png": "[encoded data removed]",
      "text/plain": [
       "<Figure size 600x600 with 1 Axes>"
      ]
     },
     "metadata": {},
     "output_type": "display_data"
    }
   ],
   "source": [
    "### 4. Pie Chart for Sentiment Proportions\n",
    "\n",
    "# Count the number of occurrences for each sentiment\n",
    "sentiment_counts = subset['Sentiment'].value_counts()\n",
    "\n",
    "# Create a pie chart\n",
    "plt.figure(figsize=(6, 6))\n",
    "plt.pie(sentiment_counts, labels=sentiment_counts.index, autopct='%1.1f%%', colors=['orange', 'red', 'gray'], startangle=140)\n",
    "plt.title('Sentiment Proportion')\n",
    "plt.show()"
   ]
  },
  {
   "cell_type": "markdown",
   "id": "ea05638c-06fc-41f2-aae1-80428e301b73",
   "metadata": {},
   "source": [
    " ## Conclusion : \n",
    "## (i) With 80% of the reviews being positive, it's clear that the majority of customers are highly satisfied with the products. This indicates that the product is meeting or exceeding expectations for a significant portion of the user base.\n",
    "## (ii) The 12.6% negative sentiment suggests that while there are some dissatisfied customers, the proportion of negative feedback is relatively low. However, it’s important to investigate the specific reasons behind the negative reviews (e.g., defective products, unmet expectations, or poor customer service) to identify areas for improvement."
   ]
  },
  {
   "cell_type": "markdown",
   "id": "7c6129bf-f77f-4e66-bec2-93451c237f33",
   "metadata": {},
   "source": [
    "## Final Conclusion :\n",
    "## The sentiment analysis indicates that the majority of the feedback is positive, with a significantly smaller portion being negative or neutral. This suggests that the products of Amazon under analysis is generally well-received and has a high level of approval or satisfaction among the target audience. Efforts should be focused on maintaining this positive sentiment while addressing the relatively few negative comments to further improve the overall perception.\""
   ]
  },
  {
   "cell_type": "code",
   "execution_count": null,
   "id": "acd9d7a7-c3e5-4900-a450-e2515a9d7566",
   "metadata": {},
   "outputs": [],
   "source": []
  }
 ],
 "metadata": {
  "kernelspec": {
   "display_name": "Python 3 (ipykernel)",
   "language": "python",
   "name": "python3"
  },
  "language_info": {
   "codemirror_mode": {
    "name": "ipython",
    "version": 3
   },
   "file_extension": ".py",
   "mimetype": "text/x-python",
   "name": "python",
   "nbconvert_exporter": "python",
   "pygments_lexer": "ipython3",
   "version": "3.12.4"
  }
 },
 "nbformat": 4,
 "nbformat_minor": 5
}
